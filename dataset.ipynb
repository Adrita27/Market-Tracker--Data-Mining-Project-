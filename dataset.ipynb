{
 "cells": [
  {
   "cell_type": "code",
   "execution_count": null,
   "id": "94b16756",
   "metadata": {},
   "outputs": [],
   "source": [
    "import csv\n",
    "import random\n",
    "from datetime import date, timedelta\n",
    "\n",
    "# Define date range for the last five years\n",
    "start_date = date(2018, 1, 1)\n",
    "end_date = date(2022, 12, 31)\n",
    "date_range = [start_date + timedelta(days=x) for x in range((end_date - start_date).days + 1)]\n",
    "\n",
    "# Define temperature range\n",
    "min_temperature = 28\n",
    "max_temperature = 42\n",
    "\n",
    "# Create and open a CSV file for writing\n",
    "with open('ice_cream_sales_v6.csv', mode='w', newline='') as csv_file:\n",
    "    fieldnames = ['Date', 'Sell_per_Day_Liters', 'Temperature_Celsius']\n",
    "    writer = csv.DictWriter(csv_file, fieldnames=fieldnames)\n",
    "    \n",
    "    # Write the header row\n",
    "    writer.writeheader()\n",
    "    \n",
    "    # Generate data for each day in the date range\n",
    "    for current_date in date_range:\n",
    "        temperature = random.uniform(min_temperature, max_temperature)\n",
    "        \n",
    "        # Calculate sales based on a linear relationship with some variations\n",
    "        base_sales = ((temperature - min_temperature) / (max_temperature - min_temperature)) * 50 + 100\n",
    "        noise = random.uniform(-15, 15)  # Introduce random noise between -15 and 15 liters\n",
    "        sell_per_day_liters = base_sales + noise\n",
    "        \n",
    "        # Ensure sales are within the desired range (100 to 150 liters)\n",
    "        sell_per_day_liters = max(100, min(150, sell_per_day_liters))\n",
    "        \n",
    "        # Increase sales density at higher temperatures\n",
    "        if temperature > 35:\n",
    "            sell_per_day_liters += random.uniform(0, 20)  # Add more sales at higher temperatures\n",
    "        \n",
    "        # Write the data to the CSV file\n",
    "        writer.writerow({\n",
    "            'Date': current_date.strftime('%Y-%m-%d'),\n",
    "            'Sell_per_Day_Liters': round(sell_per_day_liters, 2),\n",
    "            'Temperature_Celsius': round(temperature, 2)\n",
    "        })\n",
    "\n",
    "print(\"Dataset generation completed.\")\n"
   ]
  }
 ],
 "metadata": {
  "kernelspec": {
   "display_name": "Python 3 (ipykernel)",
   "language": "python",
   "name": "python3"
  },
  "language_info": {
   "codemirror_mode": {
    "name": "ipython",
    "version": 3
   },
   "file_extension": ".py",
   "mimetype": "text/x-python",
   "name": "python",
   "nbconvert_exporter": "python",
   "pygments_lexer": "ipython3",
   "version": "3.11.4"
  }
 },
 "nbformat": 4,
 "nbformat_minor": 5
}
